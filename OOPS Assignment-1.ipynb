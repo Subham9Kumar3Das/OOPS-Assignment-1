{
 "cells": [
  {
   "cell_type": "markdown",
   "id": "09282e7f-5cf7-4e65-adba-c591e1a723bf",
   "metadata": {
    "jp-MarkdownHeadingCollapsed": true,
    "tags": []
   },
   "source": [
    "# Q1. Explain Class and Object with respect to Object-Oriented Programming. Give a suitable example."
   ]
  },
  {
   "cell_type": "markdown",
   "id": "5fd8eaae-2e08-4e76-bd72-34507b60c072",
   "metadata": {},
   "source": [
    "Class is nothing but a blue print for certain operation."
   ]
  },
  {
   "cell_type": "markdown",
   "id": "de6bfc36-78e3-4434-b503-2022a6996805",
   "metadata": {},
   "source": [
    "Object is nothing but instances and variables to call a class"
   ]
  },
  {
   "cell_type": "markdown",
   "id": "28f32dc9-343c-4701-80a2-3221bc03e2c4",
   "metadata": {
    "jp-MarkdownHeadingCollapsed": true,
    "tags": []
   },
   "source": [
    "# Q2. Name the four pillars of OOPs."
   ]
  },
  {
   "cell_type": "markdown",
   "id": "f8f3c8eb-0024-4a2e-a8fa-9ee7c4fabd58",
   "metadata": {},
   "source": [
    "* Encapsulation\n",
    "* Inheritance\n",
    "* Abstraction \n",
    "* Polymorphism"
   ]
  },
  {
   "cell_type": "markdown",
   "id": "8040d7e4-b3ca-4b24-b7e7-17bc912526f9",
   "metadata": {
    "jp-MarkdownHeadingCollapsed": true,
    "tags": []
   },
   "source": [
    "# Q3. Explain why the __init__() function is used. Give a suitable example."
   ]
  },
  {
   "cell_type": "markdown",
   "id": "64ef5ac6-3521-4a2e-ba01-65d89781dfe4",
   "metadata": {},
   "source": [
    "Init acts as a constructor which invokes the variables automatically when object is created"
   ]
  },
  {
   "cell_type": "code",
   "execution_count": 2,
   "id": "7dbb95c9-dabd-4a85-9ab9-3f3bdd4c0ffc",
   "metadata": {},
   "outputs": [],
   "source": [
    "class vehicle:\n",
    "    def __init__(self,car_name,max_speed):\n",
    "        self.car_name=car_name\n",
    "        self.max_speed=max_speed\n",
    "    def speed(self,c):\n",
    "        print(self.max_speed+c)"
   ]
  },
  {
   "cell_type": "code",
   "execution_count": 3,
   "id": "484d05ad-cec1-48e1-936d-eb938ab34d1f",
   "metadata": {},
   "outputs": [],
   "source": [
    "p1=vehicle(\"Ninja\",120)"
   ]
  },
  {
   "cell_type": "code",
   "execution_count": 4,
   "id": "0907d51f-3665-44fc-87c5-3ba6d5b3c0e9",
   "metadata": {},
   "outputs": [
    {
     "name": "stdout",
     "output_type": "stream",
     "text": [
      "165\n"
     ]
    }
   ],
   "source": [
    "p1.speed(45)"
   ]
  },
  {
   "cell_type": "markdown",
   "id": "d2cc059e-66a2-48d1-939c-8c2ee5d62248",
   "metadata": {
    "jp-MarkdownHeadingCollapsed": true,
    "tags": []
   },
   "source": [
    "# Q4. Why self is used in OOPs?"
   ]
  },
  {
   "cell_type": "markdown",
   "id": "511e8805-1c16-4ffd-b0e3-4c95b1760de7",
   "metadata": {},
   "source": [
    "Self is a keyword use in class to reprent class instance and when object is created you can acess the instances through self only"
   ]
  },
  {
   "cell_type": "markdown",
   "id": "acb38ff2-6850-43fc-9342-bd1ae7d55c21",
   "metadata": {
    "jp-MarkdownHeadingCollapsed": true,
    "tags": []
   },
   "source": [
    "# Q5. What is inheritance? Give an example for each type of inheritance."
   ]
  },
  {
   "cell_type": "markdown",
   "id": "afe8de2d-1313-4118-8baa-6a93a7c9a262",
   "metadata": {},
   "source": [
    "* Single Inheritance"
   ]
  },
  {
   "cell_type": "code",
   "execution_count": 2,
   "id": "c19ff170-21d0-4091-8e95-e4736b34f076",
   "metadata": {},
   "outputs": [
    {
     "name": "stdout",
     "output_type": "stream",
     "text": [
      "Buddy\n",
      "Woof!\n"
     ]
    }
   ],
   "source": [
    "class Animal:\n",
    "    def __init__(self, name):\n",
    "        self.name = name\n",
    "    \n",
    "    def sound(self):\n",
    "        pass\n",
    "\n",
    "class Dog(Animal):\n",
    "    def sound(self):\n",
    "        return \"Woof!\"\n",
    "\n",
    "dog = Dog(\"Buddy\")\n",
    "print(dog.name)    \n",
    "print(dog.sound()) \n"
   ]
  },
  {
   "cell_type": "markdown",
   "id": "e0508f96-c88f-46b7-9879-4577e29160b6",
   "metadata": {},
   "source": [
    "* Multiple Inheritance"
   ]
  },
  {
   "cell_type": "code",
   "execution_count": 3,
   "id": "f75b8d69-8803-4bf2-b931-116e92eb5131",
   "metadata": {},
   "outputs": [
    {
     "name": "stdout",
     "output_type": "stream",
     "text": [
      "Flying...\n",
      "Running...\n"
     ]
    }
   ],
   "source": [
    "class Bird:\n",
    "    def fly(self):\n",
    "        print(\"Flying...\")\n",
    "\n",
    "class Mammal:\n",
    "    def run(self):\n",
    "        print(\"Running...\")\n",
    "\n",
    "class Bat(Bird, Mammal):\n",
    "    pass\n",
    "\n",
    "bat = Bat()\n",
    "bat.fly() \n",
    "bat.run() \n"
   ]
  },
  {
   "cell_type": "markdown",
   "id": "c46a7dd6-c367-40b7-8e3e-13da70a69901",
   "metadata": {},
   "source": [
    "* Multilevel Inheritance"
   ]
  },
  {
   "cell_type": "code",
   "execution_count": 4,
   "id": "dbcb7266-0943-418c-ab86-2998e7a4ec15",
   "metadata": {},
   "outputs": [
    {
     "name": "stdout",
     "output_type": "stream",
     "text": [
      "Moving...\n",
      "Driving...\n",
      "Speeding...\n"
     ]
    }
   ],
   "source": [
    "class Vehicle:\n",
    "    def move(self):\n",
    "        print(\"Moving...\")\n",
    "\n",
    "class Car(Vehicle):\n",
    "    def drive(self):\n",
    "        print(\"Driving...\")\n",
    "\n",
    "class SportsCar(Car):\n",
    "    def speed(self):\n",
    "        print(\"Speeding...\")\n",
    "\n",
    "sports_car = SportsCar()\n",
    "sports_car.move()  \n",
    "sports_car.drive() \n",
    "sports_car.speed() \n"
   ]
  },
  {
   "cell_type": "code",
   "execution_count": null,
   "id": "144c8622-bcc7-40d4-9b59-32ee27c7b9ec",
   "metadata": {},
   "outputs": [],
   "source": []
  }
 ],
 "metadata": {
  "kernelspec": {
   "display_name": "Python 3 (ipykernel)",
   "language": "python",
   "name": "python3"
  },
  "language_info": {
   "codemirror_mode": {
    "name": "ipython",
    "version": 3
   },
   "file_extension": ".py",
   "mimetype": "text/x-python",
   "name": "python",
   "nbconvert_exporter": "python",
   "pygments_lexer": "ipython3",
   "version": "3.10.8"
  }
 },
 "nbformat": 4,
 "nbformat_minor": 5
}
